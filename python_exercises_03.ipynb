{
  "nbformat": 4,
  "nbformat_minor": 0,
  "metadata": {
    "colab": {
      "name": "Copy of python_exercises_03.ipynb",
      "provenance": [],
      "include_colab_link": true
    },
    "kernelspec": {
      "name": "python3",
      "display_name": "Python 3"
    }
  },
  "cells": [
    {
      "cell_type": "markdown",
      "metadata": {
        "id": "view-in-github",
        "colab_type": "text"
      },
      "source": [
        "<a href=\"https://colab.research.google.com/github/msfreit/br-python-condensed/blob/main/python_exercises_03.ipynb\" target=\"_parent\"><img src=\"https://colab.research.google.com/assets/colab-badge.svg\" alt=\"Open In Colab\"/></a>"
      ]
    },
    {
      "cell_type": "markdown",
      "metadata": {
        "id": "8YqaSZgXYJ5g"
      },
      "source": [
        "![](https://i.imgur.com/YX6UATs.png)\n"
      ]
    },
    {
      "cell_type": "markdown",
      "metadata": {
        "id": "hhUVzDipaGb9"
      },
      "source": [
        "### **Exercícios de Python - 3** \n",
        "\n",
        "\n",
        "\n"
      ]
    },
    {
      "cell_type": "markdown",
      "metadata": {
        "id": "7O6AZt8-aGlr"
      },
      "source": [
        "1 - Classe Bola:\\\n",
        "Crie uma classe que modele uma bola:\n",
        "\n",
        "Atributos: Cor, material\\\n",
        "Métodos: trocaCor "
      ]
    },
    {
      "cell_type": "code",
      "metadata": {
        "id": "ibipMzmZcfIF",
        "colab": {
          "base_uri": "https://localhost:8080/",
          "height": 69
        },
        "outputId": "0fb96916-060d-477c-c899-d18115a62641"
      },
      "source": [
        "class Bola():\n",
        "\n",
        "  def __init__(self, cor, material):\n",
        "    self.cor = cor\n",
        "    self.material = material\n",
        "\n",
        "  def trocaCor(self, nova_cor):\n",
        "    self.cor = nova_cor\n",
        "    return f\"Nova Cor: {self.cor}\"\n",
        "    \n",
        "######################################\n",
        "obj_bola = Bola(\"azul\",\"couro\")\n",
        "print(obj_bola.material)\n",
        "print(obj_bola.cor)\n",
        "obj_bola.trocaCor(\"Vermelho\")\n"
      ],
      "execution_count": null,
      "outputs": [
        {
          "output_type": "stream",
          "text": [
            "couro\n",
            "azul\n"
          ],
          "name": "stdout"
        },
        {
          "output_type": "execute_result",
          "data": {
            "application/vnd.google.colaboratory.intrinsic+json": {
              "type": "string"
            },
            "text/plain": [
              "'Nova Cor: Vermelho'"
            ]
          },
          "metadata": {
            "tags": []
          },
          "execution_count": 20
        }
      ]
    },
    {
      "cell_type": "markdown",
      "metadata": {
        "id": "c62cM2VlKFqN"
      },
      "source": [
        "2 - Classe Quadrado: Crie uma classe que modele um quadrado:\n",
        "\n",
        "Atributos: Tamanho do lado\n",
        "Métodos: Mudar valor do Lado e calcular Área;"
      ]
    },
    {
      "cell_type": "code",
      "metadata": {
        "id": "M_5mNjNbKFMI",
        "colab": {
          "base_uri": "https://localhost:8080/"
        },
        "outputId": "c0815e6f-e691-41d4-80bb-b2ee7726dfbf"
      },
      "source": [
        "class Quadrado():\n",
        "  def __init__(self, tamanho_do_lado):\n",
        "    self.tamanho_do_lado = tamanho_do_lado\n",
        "\n",
        "  def mudar_tamanho_lado(self, novo_tamanho):\n",
        "    self.tamanho_do_lado = novo_tamanho\n",
        "    return f\"novo tamanho do lado: {self.tamanho_do_lado}\"\n",
        "\n",
        "  def calcular_area(self):\n",
        "    return f\"Área total: {self.tamanho_do_lado**2}\"\n",
        "\n",
        "######################################\n",
        "obj_quadrado = Quadrado(5)\n",
        "print(obj_quadrado.calcular_area())\n",
        "\n",
        "print(obj_quadrado.mudar_tamanho_lado(19))\n",
        "print(obj_quadrado.calcular_area())\n",
        "\n"
      ],
      "execution_count": null,
      "outputs": [
        {
          "output_type": "stream",
          "text": [
            "Área total: 25\n",
            "novo tamanho do lado: 19\n",
            "Área total: 361\n"
          ],
          "name": "stdout"
        }
      ]
    },
    {
      "cell_type": "markdown",
      "metadata": {
        "id": "qMGp-h8OaGqr"
      },
      "source": [
        "3 - Classe funcionário \\\n",
        "Crie uma classe que crie funcionários de uma empresa.\\\n",
        "Atributos: Nome, Função, Salário. \\\n",
        "Métodos: aumento anual. O aumento anual deve ser de 10%.\\\n",
        "Crie dois objetos e dê um aument de 10% a um deles e um aumento de 20% ao outro."
      ]
    },
    {
      "cell_type": "code",
      "metadata": {
        "id": "3lzz274Thi0Y",
        "colab": {
          "base_uri": "https://localhost:8080/"
        },
        "outputId": "d056c5f1-4672-45ee-cd9c-1c2037eba003"
      },
      "source": [
        "class Funcionario():\n",
        "  def __init__(self, nome, funcao, salario):\n",
        "    self.nome = nome\n",
        "    self.funcao = funcao\n",
        "    self.salario = salario\n",
        "\n",
        "  def aumento_anual(self, aumento):\n",
        "    self.salario = round(self.salario * (1 + aumento/100),2)\n",
        "    print(f\"novo salário: {self.salario}\")\n",
        "\n",
        "\n",
        "######################################\n",
        "funcionario1 = Funcionario(\"Jose\", \"Consultor\", 7000)\n",
        "funcionario2 = Funcionario(\"Bonifácil\", \"Gerente de Operações\", 8000)\n",
        "\n",
        "funcionario1.aumento_anual(10)\n",
        "funcionario2.aumento_anual(20)"
      ],
      "execution_count": 16,
      "outputs": [
        {
          "output_type": "stream",
          "text": [
            "novo salário: 7700.0\n",
            "novo salário: 9600.0\n"
          ],
          "name": "stdout"
        }
      ]
    },
    {
      "cell_type": "markdown",
      "metadata": {
        "id": "lCMWrvt3P4_x"
      },
      "source": [
        "04 - Utilizando a biblioteca Numpy, obtenha as médias, medianas e desvios padrão de altura, peso e IMC dos membros do dicionário a seguir:\\\n",
        "Trasforme os dicionários em um numpy array e utilize os métodos próprios dessa classe."
      ]
    },
    {
      "cell_type": "code",
      "metadata": {
        "id": "l4qtSxU7XquB"
      },
      "source": [
        "clientes = {'Charlotte': {'altura': 1.56, 'imc': 21, 'peso': 52, 'sexo': 'F'},\n",
        " 'Claudia': {'altura': 1.56, 'imc': 25, 'peso': 62, 'sexo': 'F'},\n",
        " 'Jonas': {'altura': 1.56, 'imc': 21, 'peso': 52, 'sexo': 'M'},\n",
        " 'Martha': {'altura': 1.98, 'imc': 19, 'peso': 76, 'sexo': 'F'},\n",
        " 'Mikkel': {'altura': 1.56, 'imc': 28, 'peso': 67, 'sexo': 'M'},\n",
        " 'Ulrich': {'altura': 1.92, 'imc': 22, 'peso': 80, 'sexo': 'M'}}"
      ],
      "execution_count": 17,
      "outputs": []
    },
    {
      "cell_type": "code",
      "metadata": {
        "id": "nv9z8He8hOLf",
        "colab": {
          "base_uri": "https://localhost:8080/"
        },
        "outputId": "b9103fe5-8a18-443d-d1ed-77a361c4c8aa"
      },
      "source": [
        "import numpy as np\n",
        "\n",
        "imc_list = []\n",
        "peso_list = []\n",
        "altura_list = []\n",
        "for cliente in clientes:\n",
        "  imc_list.append(clientes[cliente][\"imc\"])\n",
        "  peso_list.append(clientes[cliente][\"peso\"])\n",
        "  altura_list.append(clientes[cliente][\"altura\"])\n",
        "\n",
        "print(f\"Lista : {imc_list}\")\n",
        "print(f\"Média: {np.average(imc_list)}\")\n",
        "print(f\"Mediana: {np.median(imc_list)}\")\n",
        "print(f\"Desvio Padrão IMC: {np.std(imc_list)}\")\n",
        "print(f\"Desvio Padrão PESO: {np.std(peso_list)}\")\n",
        "print(f\"Desvio Padrão ALTURA: {np.std(altura_list)}\")"
      ],
      "execution_count": 27,
      "outputs": [
        {
          "output_type": "stream",
          "text": [
            "Lista : [21, 25, 21, 19, 28, 22]\n",
            "Média: 22.666666666666668\n",
            "Mediana: 21.5\n",
            "Desvio Padrão IMC: 2.981423969999719\n",
            "Desvio Padrão PESO: 10.77677544021814\n",
            "Desvio Padrão ALTURA: 0.18466185312619385\n"
          ],
          "name": "stdout"
        }
      ]
    },
    {
      "cell_type": "markdown",
      "metadata": {
        "id": "1a_TuuI6QDWa"
      },
      "source": [
        "05 - Realize o mesmo procedimento com a biblioteca Statistics\n"
      ]
    },
    {
      "cell_type": "code",
      "metadata": {
        "id": "y64mwLBVhN1L",
        "colab": {
          "base_uri": "https://localhost:8080/"
        },
        "outputId": "865815c1-d480-4bd1-ebb0-83b6fe645369"
      },
      "source": [
        "import statistics as st\n",
        "\n",
        "print(f\"Lista : {imc_list}\")\n",
        "print(f\"Média: {st.mean(imc_list)}\")\n",
        "print(f\"Mediana: {st.median(imc_list)}\")\n",
        "print(f\"Desvio Padrão IMC: {st.pstdev(imc_list)}\")\n",
        "print(f\"Desvio Padrão PESO: {st.pstdev(peso_list)}\")\n",
        "print(f\"Desvio Padrão ALTURA: {st.pstdev(altura_list)}\")"
      ],
      "execution_count": 33,
      "outputs": [
        {
          "output_type": "stream",
          "text": [
            "Lista : [21, 25, 21, 19, 28, 22]\n",
            "Média: 22.666666666666668\n",
            "Mediana: 21.5\n",
            "Desvio Padrão IMC: 2.9814239699997196\n",
            "Desvio Padrão PESO: 10.77677544021814\n",
            "Desvio Padrão ALTURA: 0.18466185312619385\n"
          ],
          "name": "stdout"
        }
      ]
    },
    {
      "cell_type": "markdown",
      "metadata": {
        "id": "Lm1tOKThnU42"
      },
      "source": [
        "Exercícios adaptados de Python Brasil"
      ]
    }
  ]
}