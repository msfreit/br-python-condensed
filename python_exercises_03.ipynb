{
  "nbformat": 4,
  "nbformat_minor": 0,
  "metadata": {
    "colab": {
      "name": "Copy of python_exercises_03.ipynb",
      "provenance": [],
      "include_colab_link": true
    },
    "kernelspec": {
      "name": "python3",
      "display_name": "Python 3"
    }
  },
  "cells": [
    {
      "cell_type": "markdown",
      "metadata": {
        "id": "view-in-github",
        "colab_type": "text"
      },
      "source": [
        "<a href=\"https://colab.research.google.com/github/msfreit/br-python-condensed/blob/main/python_exercises_03.ipynb\" target=\"_parent\"><img src=\"https://colab.research.google.com/assets/colab-badge.svg\" alt=\"Open In Colab\"/></a>"
      ]
    },
    {
      "cell_type": "markdown",
      "metadata": {
        "id": "8YqaSZgXYJ5g"
      },
      "source": [
        "![](https://i.imgur.com/YX6UATs.png)\n"
      ]
    },
    {
      "cell_type": "markdown",
      "metadata": {
        "id": "hhUVzDipaGb9"
      },
      "source": [
        "### **Exercícios de Python - 3** \n",
        "\n",
        "\n",
        "\n"
      ]
    },
    {
      "cell_type": "markdown",
      "metadata": {
        "id": "7O6AZt8-aGlr"
      },
      "source": [
        "1 - Classe Bola:\\\n",
        "Crie uma classe que modele uma bola:\n",
        "\n",
        "Atributos: Cor, material\\\n",
        "Métodos: trocaCor "
      ]
    },
    {
      "cell_type": "code",
      "metadata": {
        "id": "ibipMzmZcfIF",
        "colab": {
          "base_uri": "https://localhost:8080/",
          "height": 69
        },
        "outputId": "0fb96916-060d-477c-c899-d18115a62641"
      },
      "source": [
        "class Bola():\n",
        "\n",
        "  def __init__(self, cor, material):\n",
        "    self.cor = cor\n",
        "    self.material = material\n",
        "\n",
        "  def trocaCor(self, nova_cor):\n",
        "    self.cor = nova_cor\n",
        "    return f\"Nova Cor: {self.cor}\"\n",
        "\n",
        "obj_bola = Bola(\"azul\",\"couro\")\n",
        "print(obj_bola.material)\n",
        "print(obj_bola.cor)\n",
        "obj_bola.trocaCor(\"Vermelho\")\n"
      ],
      "execution_count": null,
      "outputs": [
        {
          "output_type": "stream",
          "text": [
            "couro\n",
            "azul\n"
          ],
          "name": "stdout"
        },
        {
          "output_type": "execute_result",
          "data": {
            "application/vnd.google.colaboratory.intrinsic+json": {
              "type": "string"
            },
            "text/plain": [
              "'Nova Cor: Vermelho'"
            ]
          },
          "metadata": {
            "tags": []
          },
          "execution_count": 20
        }
      ]
    },
    {
      "cell_type": "markdown",
      "metadata": {
        "id": "c62cM2VlKFqN"
      },
      "source": [
        "2 - Classe Quadrado: Crie uma classe que modele um quadrado:\n",
        "\n",
        "Atributos: Tamanho do lado\n",
        "Métodos: Mudar valor do Lado e calcular Área;"
      ]
    },
    {
      "cell_type": "code",
      "metadata": {
        "id": "M_5mNjNbKFMI",
        "colab": {
          "base_uri": "https://localhost:8080/"
        },
        "outputId": "c0815e6f-e691-41d4-80bb-b2ee7726dfbf"
      },
      "source": [
        "class Quadrado():\n",
        "  def __init__(self, tamanho_do_lado):\n",
        "    self.tamanho_do_lado = tamanho_do_lado\n",
        "\n",
        "  def mudar_tamanho_lado(self, novo_tamanho):\n",
        "    self.tamanho_do_lado = novo_tamanho\n",
        "    return f\"novo tamanho do lado: {self.tamanho_do_lado}\"\n",
        "\n",
        "  def calcular_area(self):\n",
        "    return f\"Área total: {self.tamanho_do_lado**2}\"\n",
        "\n",
        "##########################\n",
        "\n",
        "obj_quadrado = Quadrado(5)\n",
        "print(obj_quadrado.calcular_area())\n",
        "\n",
        "print(obj_quadrado.mudar_tamanho_lado(19))\n",
        "print(obj_quadrado.calcular_area())\n",
        "\n"
      ],
      "execution_count": null,
      "outputs": [
        {
          "output_type": "stream",
          "text": [
            "Área total: 25\n",
            "novo tamanho do lado: 19\n",
            "Área total: 361\n"
          ],
          "name": "stdout"
        }
      ]
    },
    {
      "cell_type": "markdown",
      "metadata": {
        "id": "qMGp-h8OaGqr"
      },
      "source": [
        "3 - Classe funcionário \\\n",
        "Crie uma classe que crie funcionários de uma empresa.\\\n",
        "Atributos: Nome, Função, Salário. \\\n",
        "Métodos: aumento anual. O aumento anual deve ser de 10%.\\\n",
        "Crie dois objetos e dê um aument de 10% a um deles e um aumento de 20% ao outro."
      ]
    },
    {
      "cell_type": "code",
      "metadata": {
        "id": "3lzz274Thi0Y"
      },
      "source": [
        ""
      ],
      "execution_count": null,
      "outputs": []
    },
    {
      "cell_type": "markdown",
      "metadata": {
        "id": "lCMWrvt3P4_x"
      },
      "source": [
        "04 - Utilizando a biblioteca Numpy, obtenha as médias, medianas e desvios padrão de altura, peso e IMC dos membros do dicionário a seguir:\\\n",
        "Trasforme os dicionários em um numpy array e utilize os métodos próprios dessa classe."
      ]
    },
    {
      "cell_type": "code",
      "metadata": {
        "id": "l4qtSxU7XquB"
      },
      "source": [
        "clientes = {'Charlotte': {'altura': 1.56, 'imc': 21, 'peso': 52, 'sexo': 'F'},\n",
        " 'Claudia': {'altura': 1.56, 'imc': 25, 'peso': 62, 'sexo': 'F'},\n",
        " 'Jonas': {'altura': 1.56, 'imc': 21, 'peso': 52, 'sexo': 'M'},\n",
        " 'Martha': {'altura': 1.98, 'imc': 19, 'peso': 76, 'sexo': 'F'},\n",
        " 'Mikkel': {'altura': 1.56, 'imc': 28, 'peso': 67, 'sexo': 'M'},\n",
        " 'Ulrich': {'altura': 1.92, 'imc': 22, 'peso': 80, 'sexo': 'M'}}"
      ],
      "execution_count": null,
      "outputs": []
    },
    {
      "cell_type": "code",
      "metadata": {
        "id": "nv9z8He8hOLf"
      },
      "source": [
        ""
      ],
      "execution_count": null,
      "outputs": []
    },
    {
      "cell_type": "markdown",
      "metadata": {
        "id": "1a_TuuI6QDWa"
      },
      "source": [
        "05 - Realize o mesmo procedimento com a biblioteca Statistics\n"
      ]
    },
    {
      "cell_type": "code",
      "metadata": {
        "id": "y64mwLBVhN1L"
      },
      "source": [
        ""
      ],
      "execution_count": null,
      "outputs": []
    },
    {
      "cell_type": "markdown",
      "metadata": {
        "id": "Lm1tOKThnU42"
      },
      "source": [
        "Exercícios adaptados de Python Brasil"
      ]
    }
  ]
}